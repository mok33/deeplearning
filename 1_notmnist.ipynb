{
 "cells": [
  {
   "cell_type": "markdown",
   "metadata": {
    "colab_type": "text",
    "id": "5hIbr52I7Z7U"
   },
   "source": [
    "Deep Learning\n",
    "=============\n",
    "\n",
    "Assignment 1\n",
    "------------\n",
    "\n",
    "The objective of this assignment is to learn about simple data curation practices, and familiarize you with some of the data we'll be reusing later.\n",
    "\n",
    "This notebook uses the [notMNIST](http://yaroslavvb.blogspot.com/2011/09/notmnist-dataset.html) dataset to be used with python experiments. This dataset is designed to look like the classic [MNIST](http://yann.lecun.com/exdb/mnist/) dataset, while looking a little more like real data: it's a harder task, and the data is a lot less 'clean' than MNIST."
   ]
  },
  {
   "cell_type": "code",
   "execution_count": 18,
   "metadata": {
    "cellView": "both",
    "colab": {
     "autoexec": {
      "startup": false,
      "wait_interval": 0
     }
    },
    "colab_type": "code",
    "id": "apJbCsBHl-2A"
   },
   "outputs": [],
   "source": [
    "# These are all the modules we'll be using later. Make sure you can import them\n",
    "# before proceeding further.\n",
    "from __future__ import print_function\n",
    "import imageio\n",
    "import matplotlib.pyplot as plt\n",
    "import numpy as np\n",
    "import os\n",
    "import sys\n",
    "import tarfile\n",
    "from IPython.display import display, Image\n",
    "from sklearn.linear_model import LogisticRegression\n",
    "from six.moves.urllib.request import urlretrieve\n",
    "from six.moves import cPickle as pickle\n",
    "\n",
    "# Config the matplotlib backend as plotting inline in IPython\n",
    "%matplotlib inline"
   ]
  },
  {
   "cell_type": "markdown",
   "metadata": {
    "colab_type": "text",
    "id": "jNWGtZaXn-5j"
   },
   "source": [
    "First, we'll download the dataset to our local machine. The data consists of characters rendered in a variety of fonts on a 28x28 image. The labels are limited to 'A' through 'J' (10 classes). The training set has about 500k and the testset 19000 labeled examples. Given these sizes, it should be possible to train models quickly on any machine."
   ]
  },
  {
   "cell_type": "code",
   "execution_count": 19,
   "metadata": {
    "cellView": "both",
    "colab": {
     "autoexec": {
      "startup": false,
      "wait_interval": 0
     },
     "output_extras": [
      {
       "item_id": 1
      }
     ]
    },
    "colab_type": "code",
    "executionInfo": {
     "elapsed": 186058,
     "status": "ok",
     "timestamp": 1444485672507,
     "user": {
      "color": "#1FA15D",
      "displayName": "Vincent Vanhoucke",
      "isAnonymous": false,
      "isMe": true,
      "permissionId": "05076109866853157986",
      "photoUrl": "//lh6.googleusercontent.com/-cCJa7dTDcgQ/AAAAAAAAAAI/AAAAAAAACgw/r2EZ_8oYer4/s50-c-k-no/photo.jpg",
      "sessionId": "2a0a5e044bb03b66",
      "userId": "102167687554210253930"
     },
     "user_tz": 420
    },
    "id": "EYRJ4ICW6-da",
    "outputId": "0d0f85df-155f-4a89-8e7e-ee32df36ec8d"
   },
   "outputs": [
    {
     "name": "stdout",
     "output_type": "stream",
     "text": [
      "Found and verified ./notMNIST_large.tar.gz\n",
      "Found and verified ./notMNIST_small.tar.gz\n"
     ]
    }
   ],
   "source": [
    "url = 'https://commondatastorage.googleapis.com/books1000/'\n",
    "last_percent_reported = None\n",
    "data_root = '.' # Change me to store data elsewhere\n",
    "\n",
    "def download_progress_hook(count, blockSize, totalSize):\n",
    "  \"\"\"A hook to report the progress of a download. This is mostly intended for users with\n",
    "  slow internet connections. Reports every 5% change in download progress.\n",
    "  \"\"\"\n",
    "  global last_percent_reported\n",
    "  percent = int(count * blockSize * 100 / totalSize)\n",
    "\n",
    "  if last_percent_reported != percent:\n",
    "    if percent % 5 == 0:\n",
    "      sys.stdout.write(\"%s%%\" % percent)\n",
    "      sys.stdout.flush()\n",
    "    else:\n",
    "      sys.stdout.write(\".\")\n",
    "      sys.stdout.flush()\n",
    "      \n",
    "    last_percent_reported = percent\n",
    "        \n",
    "def maybe_download(filename, expected_bytes, force=False):\n",
    "  \"\"\"Download a file if not present, and make sure it's the right size.\"\"\"\n",
    "  dest_filename = os.path.join(data_root, filename)\n",
    "  if force or not os.path.exists(dest_filename):\n",
    "    print('Attempting to download:', filename) \n",
    "    filename, _ = urlretrieve(url + filename, dest_filename, reporthook=download_progress_hook)\n",
    "    print('\\nDownload Complete!')\n",
    "  statinfo = os.stat(dest_filename)\n",
    "  if statinfo.st_size == expected_bytes:\n",
    "    print('Found and verified', dest_filename)\n",
    "  else:\n",
    "    raise Exception(\n",
    "      'Failed to verify ' + dest_filename + '. Can you get to it with a browser?')\n",
    "  return dest_filename\n",
    "\n",
    "train_filename = maybe_download('notMNIST_large.tar.gz', 247336696)\n",
    "test_filename = maybe_download('notMNIST_small.tar.gz', 8458043)"
   ]
  },
  {
   "cell_type": "markdown",
   "metadata": {
    "colab_type": "text",
    "id": "cC3p0oEyF8QT"
   },
   "source": [
    "Extract the dataset from the compressed .tar.gz file.\n",
    "This should give you a set of directories, labeled A through J."
   ]
  },
  {
   "cell_type": "code",
   "execution_count": 20,
   "metadata": {
    "cellView": "both",
    "colab": {
     "autoexec": {
      "startup": false,
      "wait_interval": 0
     },
     "output_extras": [
      {
       "item_id": 1
      }
     ]
    },
    "colab_type": "code",
    "executionInfo": {
     "elapsed": 186055,
     "status": "ok",
     "timestamp": 1444485672525,
     "user": {
      "color": "#1FA15D",
      "displayName": "Vincent Vanhoucke",
      "isAnonymous": false,
      "isMe": true,
      "permissionId": "05076109866853157986",
      "photoUrl": "//lh6.googleusercontent.com/-cCJa7dTDcgQ/AAAAAAAAAAI/AAAAAAAACgw/r2EZ_8oYer4/s50-c-k-no/photo.jpg",
      "sessionId": "2a0a5e044bb03b66",
      "userId": "102167687554210253930"
     },
     "user_tz": 420
    },
    "id": "H8CBE-WZ8nmj",
    "outputId": "ef6c790c-2513-4b09-962e-27c79390c762"
   },
   "outputs": [
    {
     "name": "stdout",
     "output_type": "stream",
     "text": [
      "./notMNIST_large already present - Skipping extraction of ./notMNIST_large.tar.gz.\n",
      "['./notMNIST_large/A', './notMNIST_large/B', './notMNIST_large/C', './notMNIST_large/D', './notMNIST_large/E', './notMNIST_large/F', './notMNIST_large/G', './notMNIST_large/H', './notMNIST_large/I', './notMNIST_large/J']\n",
      "./notMNIST_small already present - Skipping extraction of ./notMNIST_small.tar.gz.\n",
      "['./notMNIST_small/A', './notMNIST_small/B', './notMNIST_small/C', './notMNIST_small/D', './notMNIST_small/E', './notMNIST_small/F', './notMNIST_small/G', './notMNIST_small/H', './notMNIST_small/I', './notMNIST_small/J']\n"
     ]
    }
   ],
   "source": [
    "num_classes = 10\n",
    "np.random.seed(133)\n",
    "\n",
    "def maybe_extract(filename, force=False):\n",
    "  root = os.path.splitext(os.path.splitext(filename)[0])[0]  # remove .tar.gz\n",
    "  if os.path.isdir(root) and not force:\n",
    "    # You may override by setting force=True.\n",
    "    print('%s already present - Skipping extraction of %s.' % (root, filename))\n",
    "  else:\n",
    "    print('Extracting data for %s. This may take a while. Please wait.' % root)\n",
    "    tar = tarfile.open(filename)\n",
    "    sys.stdout.flush()\n",
    "    tar.extractall(data_root)\n",
    "    tar.close()\n",
    "  data_folders = [\n",
    "    os.path.join(root, d) for d in sorted(os.listdir(root))\n",
    "    if os.path.isdir(os.path.join(root, d))]\n",
    "  if len(data_folders) != num_classes:\n",
    "    raise Exception(\n",
    "      'Expected %d folders, one per class. Found %d instead.' % (\n",
    "        num_classes, len(data_folders)))\n",
    "  print(data_folders)\n",
    "  return data_folders\n",
    "  \n",
    "train_folders = maybe_extract(train_filename)\n",
    "test_folders = maybe_extract(test_filename)"
   ]
  },
  {
   "cell_type": "markdown",
   "metadata": {
    "colab_type": "text",
    "id": "4riXK3IoHgx6"
   },
   "source": [
    "---\n",
    "Problem 1\n",
    "---------\n",
    "\n",
    "Let's take a peek at some of the data to make sure it looks sensible. Each exemplar should be an image of a character A through J rendered in a different font. Display a sample of the images that we just downloaded. Hint: you can use the package IPython.display.\n",
    "\n",
    "---"
   ]
  },
  {
   "cell_type": "code",
   "execution_count": 21,
   "metadata": {},
   "outputs": [
    {
     "data": {
      "image/png": "[encoded data removed]",
      "text/plain": [
       "<IPython.core.display.Image object>"
      ]
     },
     "metadata": {},
     "output_type": "display_data"
    },
    {
     "data": {
      "image/png": "[encoded data removed]",
      "text/plain": [
       "<IPython.core.display.Image object>"
      ]
     },
     "metadata": {},
     "output_type": "display_data"
    },
    {
     "data": {
      "image/png": "[encoded data removed]",
      "text/plain": [
       "<IPython.core.display.Image object>"
      ]
     },
     "metadata": {},
     "output_type": "display_data"
    },
    {
     "data": {
      "image/png": "[encoded data removed]",
      "text/plain": [
       "<IPython.core.display.Image object>"
      ]
     },
     "metadata": {},
     "output_type": "display_data"
    },
    {
     "data": {
      "image/png": "[encoded data removed]",
      "text/plain": [
       "<IPython.core.display.Image object>"
      ]
     },
     "metadata": {},
     "output_type": "display_data"
    },
    {
     "data": {
      "image/png": "[encoded data removed]",
      "text/plain": [
       "<IPython.core.display.Image object>"
      ]
     },
     "metadata": {},
     "output_type": "display_data"
    },
    {
     "data": {
      "image/png": "[encoded data removed]",
      "text/plain": [
       "<IPython.core.display.Image object>"
      ]
     },
     "metadata": {},
     "output_type": "display_data"
    },
    {
     "data": {
      "image/png": "[encoded data removed]",
      "text/plain": [
       "<IPython.core.display.Image object>"
      ]
     },
     "metadata": {},
     "output_type": "display_data"
    },
    {
     "data": {
      "image/png": "[encoded data removed]",
      "text/plain": [
       "<IPython.core.display.Image object>"
      ]
     },
     "metadata": {},
     "output_type": "display_data"
    },
    {
     "data": {
      "image/png": "[encoded data removed]",
      "text/plain": [
       "<IPython.core.display.Image object>"
      ]
     },
     "metadata": {},
     "output_type": "display_data"
    },
    {
     "data": {
      "image/png": "[encoded data removed]",
      "text/plain": [
       "<IPython.core.display.Image object>"
      ]
     },
     "metadata": {},
     "output_type": "display_data"
    },
    {
     "data": {
      "image/png": "[encoded data removed]",
      "text/plain": [
       "<IPython.core.display.Image object>"
      ]
     },
     "metadata": {},
     "output_type": "display_data"
    },
    {
     "data": {
      "image/png": "[encoded data removed]",
      "text/plain": [
       "<IPython.core.display.Image object>"
      ]
     },
     "metadata": {},
     "output_type": "display_data"
    },
    {
     "data": {
      "image/png": "[encoded data removed]",
      "text/plain": [
       "<IPython.core.display.Image object>"
      ]
     },
     "metadata": {},
     "output_type": "display_data"
    },
    {
     "data": {
      "image/png": "[encoded data removed]",
      "text/plain": [
       "<IPython.core.display.Image object>"
      ]
     },
     "metadata": {},
     "output_type": "display_data"
    },
    {
     "data": {
      "image/png": "[encoded data removed]",
      "text/plain": [
       "<IPython.core.display.Image object>"
      ]
     },
     "metadata": {},
     "output_type": "display_data"
    },
    {
     "data": {
      "image/png": "[encoded data removed]",
      "text/plain": [
       "<IPython.core.display.Image object>"
      ]
     },
     "metadata": {},
     "output_type": "display_data"
    },
    {
     "data": {
      "image/png": "[encoded data removed]",
      "text/plain": [
       "<IPython.core.display.Image object>"
      ]
     },
     "metadata": {},
     "output_type": "display_data"
    },
    {
     "data": {
      "image/png": "[encoded data removed]",
      "text/plain": [
       "<IPython.core.display.Image object>"
      ]
     },
     "metadata": {},
     "output_type": "display_data"
    },
    {
     "data": {
      "image/png": "[encoded data removed]",
      "text/plain": [
       "<IPython.core.display.Image object>"
      ]
     },
     "metadata": {},
     "output_type": "display_data"
    },
    {
     "data": {
      "image/png": "[encoded data removed]",
      "text/plain": [
       "<IPython.core.display.Image object>"
      ]
     },
     "metadata": {},
     "output_type": "display_data"
    },
    {
     "data": {
      "image/png": "[encoded data removed]",
      "text/plain": [
       "<IPython.core.display.Image object>"
      ]
     },
     "metadata": {},
     "output_type": "display_data"
    },
    {
     "data": {
      "image/png": "[encoded data removed]",
      "text/plain": [
       "<IPython.core.display.Image object>"
      ]
     },
     "metadata": {},
     "output_type": "display_data"
    },
    {
     "data": {
      "image/png": "[encoded data removed]",
      "text/plain": [
       "<IPython.core.display.Image object>"
      ]
     },
     "metadata": {},
     "output_type": "display_data"
    },
    {
     "data": {
      "image/png": "[encoded data removed]",
      "text/plain": [
       "<IPython.core.display.Image object>"
      ]
     },
     "metadata": {},
     "output_type": "display_data"
    },
    {
     "data": {
      "image/png": "[encoded data removed]",
      "text/plain": [
       "<IPython.core.display.Image object>"
      ]
     },
     "metadata": {},
     "output_type": "display_data"
    },
    {
     "data": {
      "image/png": "[encoded data removed]",
      "text/plain": [
       "<IPython.core.display.Image object>"
      ]
     },
     "metadata": {},
     "output_type": "display_data"
    },
    {
     "data": {
      "image/png": "[encoded data removed]",
      "text/plain": [
       "<IPython.core.display.Image object>"
      ]
     },
     "metadata": {},
     "output_type": "display_data"
    },
    {
     "data": {
      "image/png": "[encoded data removed]",
      "text/plain": [
       "<IPython.core.display.Image object>"
      ]
     },
     "metadata": {},
     "output_type": "display_data"
    },
    {
     "data": {
      "image/png": "[encoded data removed]",
      "text/plain": [
       "<IPython.core.display.Image object>"
      ]
     },
     "metadata": {},
     "output_type": "display_data"
    },
    {
     "data": {
      "image/png": "[encoded data removed]",
      "text/plain": [
       "<IPython.core.display.Image object>"
      ]
     },
     "metadata": {},
     "output_type": "display_data"
    },
    {
     "data": {
      "image/png": "[encoded data removed]",
      "text/plain": [
       "<IPython.core.display.Image object>"
      ]
     },
     "metadata": {},
     "output_type": "display_data"
    },
    {
     "data": {
      "image/png": "[encoded data removed]",
      "text/plain": [
       "<IPython.core.display.Image object>"
      ]
     },
     "metadata": {},
     "output_type": "display_data"
    },
    {
     "data": {
      "image/png": "[encoded data removed]",
      "text/plain": [
       "<IPython.core.display.Image object>"
      ]
     },
     "metadata": {},
     "output_type": "display_data"
    },
    {
     "data": {
      "image/png": "[encoded data removed]",
      "text/plain": [
       "<IPython.core.display.Image object>"
      ]
     },
     "metadata": {},
     "output_type": "display_data"
    },
    {
     "data": {
      "image/png": "[encoded data removed]",
      "text/plain": [
       "<IPython.core.display.Image object>"
      ]
     },
     "metadata": {},
     "output_type": "display_data"
    },
    {
     "data": {
      "image/png": "[encoded data removed]",
      "text/plain": [
       "<IPython.core.display.Image object>"
      ]
     },
     "metadata": {},
     "output_type": "display_data"
    },
    {
     "data": {
      "image/png": "[encoded data removed]",
      "text/plain": [
       "<IPython.core.display.Image object>"
      ]
     },
     "metadata": {},
     "output_type": "display_data"
    },
    {
     "data": {
      "image/png": "[encoded data removed]",
      "text/plain": [
       "<IPython.core.display.Image object>"
      ]
     },
     "metadata": {},
     "output_type": "display_data"
    },
    {
     "data": {
      "image/png": "[encoded data removed]",
      "text/plain": [
       "<IPython.core.display.Image object>"
      ]
     },
     "metadata": {},
     "output_type": "display_data"
    },
    {
     "data": {
      "image/png": "[encoded data removed]",
      "text/plain": [
       "<IPython.core.display.Image object>"
      ]
     },
     "metadata": {},
     "output_type": "display_data"
    },
    {
     "data": {
      "image/png": "[encoded data removed]",
      "text/plain": [
       "<IPython.core.display.Image object>"
      ]
     },
     "metadata": {},
     "output_type": "display_data"
    },
    {
     "data": {
      "image/png": "[encoded data removed]",
      "text/plain": [
       "<IPython.core.display.Image object>"
      ]
     },
     "metadata": {},
     "output_type": "display_data"
    },
    {
     "data": {
      "image/png": "[encoded data removed]",
      "text/plain": [
       "<IPython.core.display.Image object>"
      ]
     },
     "metadata": {},
     "output_type": "display_data"
    },
    {
     "data": {
      "image/png": "[encoded data removed]",
      "text/plain": [
       "<IPython.core.display.Image object>"
      ]
     },
     "metadata": {},
     "output_type": "display_data"
    },
    {
     "data": {
      "image/png": "[encoded data removed]",
      "text/plain": [
       "<IPython.core.display.Image object>"
      ]
     },
     "metadata": {},
     "output_type": "display_data"
    },
    {
     "data": {
      "image/png": "[encoded data removed]",
      "text/plain": [
       "<IPython.core.display.Image object>"
      ]
     },
     "metadata": {},
     "output_type": "display_data"
    },
    {
     "data": {
      "image/png": "[encoded data removed]",
      "text/plain": [
       "<IPython.core.display.Image object>"
      ]
     },
     "metadata": {},
     "output_type": "display_data"
    },
    {
     "data": {
      "image/png": "[encoded data removed]",
      "text/plain": [
       "<IPython.core.display.Image object>"
      ]
     },
     "metadata": {},
     "output_type": "display_data"
    },
    {
     "data": {
      "image/png": "[encoded data removed]",
      "text/plain": [
       "<IPython.core.display.Image object>"
      ]
     },
     "metadata": {},
     "output_type": "display_data"
    }
   ],
   "source": [
    "import random\n",
    "\n",
    "folders = np.array([d for d in os.listdir('notMNIST_small') if os.path.isdir(os.path.join('notMNIST_small', d))])\n",
    "image_per_letter = 5\n",
    "\n",
    "\n",
    "\n",
    "for folder in folders:\n",
    "    images_files = os.listdir(os.path.join('./notMNIST_small', folder))\n",
    "    for image in random.sample(images_files, image_per_letter) :\n",
    "        display(Image(filename=os.path.join('notMNIST_small', folder, image)))\n"
   ]
  },
  {
   "cell_type": "markdown",
   "metadata": {
    "colab_type": "text",
    "id": "PBdkjESPK8tw"
   },
   "source": [
    "Now let's load the data in a more manageable format. Since, depending on your computer setup you might not be able to fit it all in memory, we'll load each class into a separate dataset, store them on disk and curate them independently. Later we'll merge them into a single dataset of manageable size.\n",
    "\n",
    "We'll convert the entire dataset into a 3D array (image index, x, y) of floating point values, normalized to have approximately zero mean and standard deviation ~0.5 to make training easier down the road. \n",
    "\n",
    "A few images might not be readable, we'll just skip them."
   ]
  },
  {
   "cell_type": "code",
   "execution_count": 22,
   "metadata": {
    "cellView": "both",
    "colab": {
     "autoexec": {
      "startup": false,
      "wait_interval": 0
     },
     "output_extras": [
      {
       "item_id": 30
      }
     ]
    },
    "colab_type": "code",
    "executionInfo": {
     "elapsed": 399874,
     "status": "ok",
     "timestamp": 1444485886378,
     "user": {
      "color": "#1FA15D",
      "displayName": "Vincent Vanhoucke",
      "isAnonymous": false,
      "isMe": true,
      "permissionId": "05076109866853157986",
      "photoUrl": "//lh6.googleusercontent.com/-cCJa7dTDcgQ/AAAAAAAAAAI/AAAAAAAACgw/r2EZ_8oYer4/s50-c-k-no/photo.jpg",
      "sessionId": "2a0a5e044bb03b66",
      "userId": "102167687554210253930"
     },
     "user_tz": 420
    },
    "id": "h7q0XhG3MJdf",
    "outputId": "92c391bb-86ff-431d-9ada-315568a19e59"
   },
   "outputs": [
    {
     "name": "stdout",
     "output_type": "stream",
     "text": [
      "./notMNIST_large/A.pickle already present - Skipping pickling.\n",
      "./notMNIST_large/B.pickle already present - Skipping pickling.\n",
      "./notMNIST_large/C.pickle already present - Skipping pickling.\n",
      "./notMNIST_large/D.pickle already present - Skipping pickling.\n",
      "./notMNIST_large/E.pickle already present - Skipping pickling.\n",
      "./notMNIST_large/F.pickle already present - Skipping pickling.\n",
      "./notMNIST_large/G.pickle already present - Skipping pickling.\n",
      "./notMNIST_large/H.pickle already present - Skipping pickling.\n",
      "./notMNIST_large/I.pickle already present - Skipping pickling.\n",
      "./notMNIST_large/J.pickle already present - Skipping pickling.\n",
      "./notMNIST_small/A.pickle already present - Skipping pickling.\n",
      "./notMNIST_small/B.pickle already present - Skipping pickling.\n",
      "./notMNIST_small/C.pickle already present - Skipping pickling.\n",
      "./notMNIST_small/D.pickle already present - Skipping pickling.\n",
      "./notMNIST_small/E.pickle already present - Skipping pickling.\n",
      "./notMNIST_small/F.pickle already present - Skipping pickling.\n",
      "./notMNIST_small/G.pickle already present - Skipping pickling.\n",
      "./notMNIST_small/H.pickle already present - Skipping pickling.\n",
      "./notMNIST_small/I.pickle already present - Skipping pickling.\n",
      "./notMNIST_small/J.pickle already present - Skipping pickling.\n"
     ]
    }
   ],
   "source": [
    "image_size = 28  # Pixel width and height.\n",
    "pixel_depth = 255.0  # Number of levels per pixel.\n",
    "\n",
    "def load_letter(folder, min_num_images):\n",
    "  \"\"\"Load the data for a single letter label.\"\"\"\n",
    "  image_files = os.listdir(folder)\n",
    "  dataset = np.ndarray(shape=(len(image_files), image_size, image_size),\n",
    "                         dtype=np.float32)\n",
    "  print(folder)\n",
    "  num_images = 0\n",
    "  for image in image_files:\n",
    "    image_file = os.path.join(folder, image)\n",
    "    try:\n",
    "      image_data = (imageio.imread(image_file).astype(float) - \n",
    "                    pixel_depth / 2) / pixel_depth\n",
    "      if image_data.shape != (image_size, image_size):\n",
    "        raise Exception('Unexpected image shape: %s' % str(image_data.shape))\n",
    "      dataset[num_images, :, :] = image_data\n",
    "      num_images = num_images + 1\n",
    "    except (IOError, ValueError) as e:\n",
    "      print('Could not read:', image_file, ':', e, '- it\\'s ok, skipping.')\n",
    "    \n",
    "  dataset = dataset[0:num_images, :, :]\n",
    "  if num_images < min_num_images:\n",
    "    raise Exception('Many fewer images than expected: %d < %d' %\n",
    "                    (num_images, min_num_images))\n",
    "    \n",
    "  print('Full dataset tensor:', dataset.shape)\n",
    "  print('Mean:', np.mean(dataset))\n",
    "  print('Standard deviation:', np.std(dataset))\n",
    "  return dataset\n",
    "        \n",
    "def maybe_pickle(data_folders, min_num_images_per_class, force=False):\n",
    "  dataset_names = []\n",
    "  for folder in data_folders:\n",
    "    set_filename = folder + '.pickle'\n",
    "    dataset_names.append(set_filename)\n",
    "    if os.path.exists(set_filename) and not force:\n",
    "      # You may override by setting force=True.\n",
    "      print('%s already present - Skipping pickling.' % set_filename)\n",
    "    else:\n",
    "      print('Pickling %s.' % set_filename)\n",
    "      dataset = load_letter(folder, min_num_images_per_class)\n",
    "      try:\n",
    "        with open(set_filename, 'wb') as f:\n",
    "          pickle.dump(dataset, f, pickle.HIGHEST_PROTOCOL)\n",
    "      except Exception as e:\n",
    "        print('Unable to save data to', set_filename, ':', e)\n",
    "  \n",
    "  return dataset_names\n",
    "\n",
    "train_datasets = maybe_pickle(train_folders, 45000)\n",
    "test_datasets = maybe_pickle(test_folders, 1800)"
   ]
  },
  {
   "cell_type": "markdown",
   "metadata": {
    "colab_type": "text",
    "id": "vUdbskYE2d87"
   },
   "source": [
    "---\n",
    "Problem 2\n",
    "---------\n",
    "\n",
    "Let's verify that the data still looks good. Displaying a sample of the labels and images from the ndarray. Hint: you can use matplotlib.pyplot.\n",
    "\n",
    "---"
   ]
  },
  {
   "cell_type": "code",
   "execution_count": 23,
   "metadata": {},
   "outputs": [
    {
     "data": {
      "image/png": "[encoded data removed]",
      "text/plain": [
       "<Figure size 432x288 with 1 Axes>"
      ]
     },
     "metadata": {},
     "output_type": "display_data"
    },
    {
     "data": {
      "image/png": "[encoded data removed]",
      "text/plain": [
       "<Figure size 432x288 with 1 Axes>"
      ]
     },
     "metadata": {},
     "output_type": "display_data"
    },
    {
     "data": {
      "image/png": "[encoded data removed]",
      "text/plain": [
       "<Figure size 432x288 with 1 Axes>"
      ]
     },
     "metadata": {},
     "output_type": "display_data"
    },
    {
     "data": {
      "image/png": "[encoded data removed]",
      "text/plain": [
       "<Figure size 432x288 with 1 Axes>"
      ]
     },
     "metadata": {},
     "output_type": "display_data"
    },
    {
     "data": {
      "image/png": "[encoded data removed]",
      "text/plain": [
       "<Figure size 432x288 with 1 Axes>"
      ]
     },
     "metadata": {},
     "output_type": "display_data"
    },
    {
     "data": {
      "image/png": "[encoded data removed]",
      "text/plain": [
       "<Figure size 432x288 with 1 Axes>"
      ]
     },
     "metadata": {},
     "output_type": "display_data"
    },
    {
     "data": {
      "image/png": "[encoded data removed]",
      "text/plain": [
       "<Figure size 432x288 with 1 Axes>"
      ]
     },
     "metadata": {},
     "output_type": "display_data"
    },
    {
     "data": {
      "image/png": "[encoded data removed]",
      "text/plain": [
       "<Figure size 432x288 with 1 Axes>"
      ]
     },
     "metadata": {},
     "output_type": "display_data"
    },
    {
     "data": {
      "image/png": "[encoded data removed]",
      "text/plain": [
       "<Figure size 432x288 with 1 Axes>"
      ]
     },
     "metadata": {},
     "output_type": "display_data"
    },
    {
     "data": {
      "image/png": "[encoded data removed]",
      "text/plain": [
       "<Figure size 432x288 with 1 Axes>"
      ]
     },
     "metadata": {},
     "output_type": "display_data"
    }
   ],
   "source": [
    "for label, pickle_file in enumerate(train_datasets):\n",
    "    with open(pickle_file, 'rb') as f:\n",
    "        letter_set = pickle.load(f)\n",
    "        plt.figure()\n",
    "        plt.imshow(letter_set[0,:,:]) "
   ]
  },
  {
   "cell_type": "markdown",
   "metadata": {
    "colab_type": "text",
    "id": "cYznx5jUwzoO"
   },
   "source": [
    "---\n",
    "Problem 3\n",
    "---------\n",
    "Another check: we expect the data to be balanced across classes. Verify that.\n",
    "\n",
    "---"
   ]
  },
  {
   "cell_type": "code",
   "execution_count": null,
   "metadata": {},
   "outputs": [],
   "source": []
  },
  {
   "cell_type": "markdown",
   "metadata": {
    "colab_type": "text",
    "id": "LA7M7K22ynCt"
   },
   "source": [
    "Merge and prune the training data as needed. Depending on your computer setup, you might not be able to fit it all in memory, and you can tune `train_size` as needed. The labels will be stored into a separate array of integers 0 through 9.\n",
    "\n",
    "Also create a validation dataset for hyperparameter tuning."
   ]
  },
  {
   "cell_type": "code",
   "execution_count": 24,
   "metadata": {
    "cellView": "both",
    "colab": {
     "autoexec": {
      "startup": false,
      "wait_interval": 0
     },
     "output_extras": [
      {
       "item_id": 1
      }
     ]
    },
    "colab_type": "code",
    "executionInfo": {
     "elapsed": 411281,
     "status": "ok",
     "timestamp": 1444485897869,
     "user": {
      "color": "#1FA15D",
      "displayName": "Vincent Vanhoucke",
      "isAnonymous": false,
      "isMe": true,
      "permissionId": "05076109866853157986",
      "photoUrl": "//lh6.googleusercontent.com/-cCJa7dTDcgQ/AAAAAAAAAAI/AAAAAAAACgw/r2EZ_8oYer4/s50-c-k-no/photo.jpg",
      "sessionId": "2a0a5e044bb03b66",
      "userId": "102167687554210253930"
     },
     "user_tz": 420
    },
    "id": "s3mWgZLpyuzq",
    "outputId": "8af66da6-902d-4719-bedc-7c9fb7ae7948"
   },
   "outputs": [
    {
     "name": "stdout",
     "output_type": "stream",
     "text": [
      "Training: (200000, 28, 28) (200000,)\n",
      "Validation: (10000, 28, 28) (10000,)\n",
      "Testing: (10000, 28, 28) (10000,)\n"
     ]
    }
   ],
   "source": [
    "def make_arrays(nb_rows, img_size):\n",
    "  if nb_rows:\n",
    "    dataset = np.ndarray((nb_rows, img_size, img_size), dtype=np.float32)\n",
    "    labels = np.ndarray(nb_rows, dtype=np.int32)\n",
    "  else:\n",
    "    dataset, labels = None, None\n",
    "  return dataset, labels\n",
    "\n",
    "def merge_datasets(pickle_files, train_size, valid_size=0):\n",
    "  num_classes = len(pickle_files)\n",
    "  valid_dataset, valid_labels = make_arrays(valid_size, image_size)\n",
    "  train_dataset, train_labels = make_arrays(train_size, image_size)\n",
    "  vsize_per_class = valid_size // num_classes\n",
    "  tsize_per_class = train_size // num_classes\n",
    "    \n",
    "  start_v, start_t = 0, 0\n",
    "  end_v, end_t = vsize_per_class, tsize_per_class\n",
    "  end_l = vsize_per_class+tsize_per_class\n",
    "\n",
    "  for label, pickle_file in enumerate(pickle_files):       \n",
    "    try:\n",
    "      with open(pickle_file, 'rb') as f:\n",
    "        letter_set = pickle.load(f)\n",
    "        # let's shuffle the letters to have random validation and training set\n",
    "        np.random.shuffle(letter_set)\n",
    "        if valid_dataset is not None:\n",
    "          valid_letter = letter_set[:vsize_per_class, :, :]\n",
    "          valid_dataset[start_v:end_v, :, :] = valid_letter\n",
    "          valid_labels[start_v:end_v] = label\n",
    "          start_v += vsize_per_class\n",
    "          end_v += vsize_per_class\n",
    "                    \n",
    "        train_letter = letter_set[vsize_per_class:end_l, :, :]\n",
    "        train_dataset[start_t:end_t, :, :] = train_letter\n",
    "        train_labels[start_t:end_t] = label\n",
    "        start_t += tsize_per_class\n",
    "        end_t += tsize_per_class\n",
    "    except Exception as e:\n",
    "      print('Unable to process data from', pickle_file, ':', e)\n",
    "      raise\n",
    "    \n",
    "  return valid_dataset, valid_labels, train_dataset, train_labels\n",
    "            \n",
    "            \n",
    "train_size = 200000\n",
    "valid_size = 10000\n",
    "test_size = 10000\n",
    "\n",
    "valid_dataset, valid_labels, train_dataset, train_labels = merge_datasets(\n",
    "  train_datasets, train_size, valid_size)\n",
    "\n",
    "_, _, test_dataset, test_labels = merge_datasets(test_datasets, test_size)\n",
    "\n",
    "print('Training:', train_dataset.shape, train_labels.shape)\n",
    "print('Validation:', valid_dataset.shape, valid_labels.shape)\n",
    "print('Testing:', test_dataset.shape, test_labels.shape)"
   ]
  },
  {
   "cell_type": "markdown",
   "metadata": {
    "colab_type": "text",
    "id": "GPTCnjIcyuKN"
   },
   "source": [
    "Next, we'll randomize the data. It's important to have the labels well shuffled for the training and test distributions to match."
   ]
  },
  {
   "cell_type": "code",
   "execution_count": 25,
   "metadata": {
    "cellView": "both",
    "colab": {
     "autoexec": {
      "startup": false,
      "wait_interval": 0
     }
    },
    "colab_type": "code",
    "id": "6WZ2l2tN2zOL"
   },
   "outputs": [],
   "source": [
    "def randomize(dataset, labels):\n",
    "  permutation = np.random.permutation(labels.shape[0])\n",
    "  shuffled_dataset = dataset[permutation,:,:]\n",
    "  shuffled_labels = labels[permutation]\n",
    "  return shuffled_dataset, shuffled_labels\n",
    "\n",
    "train_dataset, train_labels = randomize(train_dataset, train_labels)\n",
    "test_dataset, test_labels = randomize(test_dataset, test_labels)\n",
    "valid_dataset, valid_labels = randomize(valid_dataset, valid_labels)"
   ]
  },
  {
   "cell_type": "markdown",
   "metadata": {
    "colab_type": "text",
    "id": "puDUTe6t6USl"
   },
   "source": [
    "---\n",
    "Problem 4\n",
    "---------\n",
    "Convince yourself that the data is still good after shuffling!\n",
    "\n",
    "---"
   ]
  },
  {
   "cell_type": "code",
   "execution_count": 35,
   "metadata": {},
   "outputs": [
    {
     "name": "stdout",
     "output_type": "stream",
     "text": [
      "9\n"
     ]
    },
    {
     "data": {
      "text/plain": [
       "200000"
      ]
     },
     "execution_count": 35,
     "metadata": {},
     "output_type": "execute_result"
    },
    {
     "data": {
      "image/png": "[encoded data removed]",
      "text/plain": [
       "<Figure size 432x288 with 1 Axes>"
      ]
     },
     "metadata": {},
     "output_type": "display_data"
    }
   ],
   "source": [
    "plt.imshow(train_dataset[1,:,:])\n",
    "print(train_labels[1])"
   ]
  },
  {
   "cell_type": "markdown",
   "metadata": {
    "colab_type": "text",
    "id": "tIQJaJuwg5Hw"
   },
   "source": [
    "Finally, let's save the data for later reuse:"
   ]
  },
  {
   "cell_type": "code",
   "execution_count": 27,
   "metadata": {
    "cellView": "both",
    "colab": {
     "autoexec": {
      "startup": false,
      "wait_interval": 0
     }
    },
    "colab_type": "code",
    "id": "QiR_rETzem6C"
   },
   "outputs": [],
   "source": [
    "pickle_file = os.path.join(data_root, 'notMNIST.pickle')\n",
    "\n",
    "try:\n",
    "  f = open(pickle_file, 'wb')\n",
    "  save = {\n",
    "    'train_dataset': train_dataset,\n",
    "    'train_labels': train_labels,\n",
    "    'valid_dataset': valid_dataset,\n",
    "    'valid_labels': valid_labels,\n",
    "    'test_dataset': test_dataset,\n",
    "    'test_labels': test_labels,\n",
    "    }\n",
    "  pickle.dump(save, f, pickle.HIGHEST_PROTOCOL)\n",
    "  f.close()\n",
    "except Exception as e:\n",
    "  print('Unable to save data to', pickle_file, ':', e)\n",
    "  raise"
   ]
  },
  {
   "cell_type": "code",
   "execution_count": 28,
   "metadata": {
    "cellView": "both",
    "colab": {
     "autoexec": {
      "startup": false,
      "wait_interval": 0
     },
     "output_extras": [
      {
       "item_id": 1
      }
     ]
    },
    "colab_type": "code",
    "executionInfo": {
     "elapsed": 413065,
     "status": "ok",
     "timestamp": 1444485899688,
     "user": {
      "color": "#1FA15D",
      "displayName": "Vincent Vanhoucke",
      "isAnonymous": false,
      "isMe": true,
      "permissionId": "05076109866853157986",
      "photoUrl": "//lh6.googleusercontent.com/-cCJa7dTDcgQ/AAAAAAAAAAI/AAAAAAAACgw/r2EZ_8oYer4/s50-c-k-no/photo.jpg",
      "sessionId": "2a0a5e044bb03b66",
      "userId": "102167687554210253930"
     },
     "user_tz": 420
    },
    "id": "hQbLjrW_iT39",
    "outputId": "b440efc6-5ee1-4cbc-d02d-93db44ebd956"
   },
   "outputs": [
    {
     "name": "stdout",
     "output_type": "stream",
     "text": [
      "Compressed pickle size: 690800506\n"
     ]
    }
   ],
   "source": [
    "statinfo = os.stat(pickle_file)\n",
    "print('Compressed pickle size:', statinfo.st_size)"
   ]
  },
  {
   "cell_type": "markdown",
   "metadata": {
    "colab_type": "text",
    "id": "gE_cRAQB33lk"
   },
   "source": [
    "---\n",
    "Problem 5\n",
    "---------\n",
    "\n",
    "By construction, this dataset might contain a lot of overlapping samples, including training data that's also contained in the validation and test set! Overlap between training and test can skew the results if you expect to use your model in an environment where there is never an overlap, but are actually ok if you expect to see training samples recur when you use it.\n",
    "Measure how much overlap there is between training, validation and test samples.\n",
    "\n",
    "Optional questions:\n",
    "- What about near duplicates between datasets? (images that are almost identical)\n",
    "- Create a sanitized validation and test set, and compare your accuracy on those in subsequent assignments.\n",
    "---"
   ]
  },
  {
   "cell_type": "code",
   "execution_count": 29,
   "metadata": {
    "scrolled": true
   },
   "outputs": [
    {
     "data": {
      "text/plain": [
       "0.001219047619047619"
      ]
     },
     "execution_count": 29,
     "metadata": {},
     "output_type": "execute_result"
    }
   ],
   "source": [
    "len(np.intersect1d(train_dataset, test_dataset))/(len(train_dataset) + len(test_dataset))"
   ]
  },
  {
   "cell_type": "markdown",
   "metadata": {
    "colab_type": "text",
    "id": "L8oww1s4JMQx"
   },
   "source": [
    "---\n",
    "Problem 6\n",
    "---------\n",
    "\n",
    "Let's get an idea of what an off-the-shelf classifier can give you on this data. It's always good to check that there is something to learn, and that it's a problem that is not so trivial that a canned solution solves it.\n",
    "\n",
    "Train a simple model on this data using 50, 100, 1000 and 5000 training samples. Hint: you can use the LogisticRegression model from sklearn.linear_model.\n",
    "\n",
    "Optional question: train an off-the-shelf model on all the data!\n",
    "\n",
    "---"
   ]
  },
  {
   "cell_type": "code",
   "execution_count": 30,
   "metadata": {},
   "outputs": [
    {
     "data": {
      "text/plain": [
       "0.852"
      ]
     },
     "execution_count": 30,
     "metadata": {},
     "output_type": "execute_result"
    }
   ],
   "source": [
    "#simple regression\n",
    "\n",
    "import sklearn\n",
    "from random import sample\n",
    "\n",
    "train_set_size = 5000\n",
    "\n",
    "offshell = sklearn.linear_model.LogisticRegression()\n",
    "offshell.fit(train_dataset[:train_set_size, :, :].reshape(train_set_size, 28 * 28), train_labels[:train_set_size])\n",
    "\n",
    "offshell.score(test_dataset.reshape(len(test_dataset),28 * 28), test_labels)"
   ]
  },
  {
   "cell_type": "code",
   "execution_count": 31,
   "metadata": {},
   "outputs": [],
   "source": [
    "#neural network \n",
    "import os\n",
    "os.environ['KERAS_BACKEND'] = 'tensorflow'\n",
    "os.environ[\"CUDA_VISIBLE_DEVICES\"] = \"0\"\n",
    "import tensorflow as tf\n",
    "from keras.backend.tensorflow_backend import set_session\n",
    "config = tf.ConfigProto()\n",
    "config.gpu_options.per_process_gpu_memory_fraction = 0.05\n",
    "set_session(tf.Session(config=config))\n",
    "import numpy as np\n",
    "# import os\n",
    "# os.environ[\"THEANO_FLAGS\"] = \"device=gpu0\"\n",
    "from keras.models import Model, Sequential\n",
    "from keras.layers import Dense,Conv1D,MaxPool1D,Dropout, Activation, LSTM, Input, merge, Reshape, Flatten, LocallyConnected1D, Embedding"
   ]
  },
  {
   "cell_type": "code",
   "execution_count": null,
   "metadata": {},
   "outputs": [
    {
     "name": "stderr",
     "output_type": "stream",
     "text": [
      "/home/dataimpact/.local/lib/python3.6/site-packages/ipykernel_launcher.py:9: UserWarning: Update your `Model` call to the Keras 2 API: `Model(inputs=Tensor(\"in..., outputs=Tensor(\"ma...)`\n",
      "  if __name__ == '__main__':\n"
     ]
    },
    {
     "name": "stdout",
     "output_type": "stream",
     "text": [
      "Epoch 1/1500\n",
      "5000/5000 [==============================] - 0s 80us/step - loss: 2.0988 - categorical_accuracy: 0.4494\n",
      "Epoch 2/1500\n",
      "5000/5000 [==============================] - 0s 29us/step - loss: 1.9665 - categorical_accuracy: 0.6122\n",
      "Epoch 3/1500\n",
      "5000/5000 [==============================] - 0s 28us/step - loss: 1.8841 - categorical_accuracy: 0.6536\n",
      "Epoch 4/1500\n",
      "5000/5000 [==============================] - 0s 31us/step - loss: 1.8176 - categorical_accuracy: 0.6700\n",
      "Epoch 5/1500\n",
      "5000/5000 [==============================] - 0s 31us/step - loss: 1.7605 - categorical_accuracy: 0.6794\n",
      "Epoch 6/1500\n",
      "5000/5000 [==============================] - 0s 29us/step - loss: 1.7096 - categorical_accuracy: 0.6892\n",
      "Epoch 7/1500\n",
      "5000/5000 [==============================] - 0s 32us/step - loss: 1.6640 - categorical_accuracy: 0.6984\n",
      "Epoch 8/1500\n",
      "5000/5000 [==============================] - 0s 33us/step - loss: 1.6218 - categorical_accuracy: 0.7078\n",
      "Epoch 9/1500\n",
      "5000/5000 [==============================] - 0s 31us/step - loss: 1.5830 - categorical_accuracy: 0.7138\n",
      "Epoch 10/1500\n",
      "5000/5000 [==============================] - 0s 31us/step - loss: 1.5469 - categorical_accuracy: 0.7218\n",
      "Epoch 11/1500\n",
      "5000/5000 [==============================] - 0s 32us/step - loss: 1.5139 - categorical_accuracy: 0.7250\n",
      "Epoch 12/1500\n",
      "5000/5000 [==============================] - 0s 40us/step - loss: 1.4825 - categorical_accuracy: 0.7308\n",
      "Epoch 13/1500\n",
      "5000/5000 [==============================] - 0s 46us/step - loss: 1.4533 - categorical_accuracy: 0.7320\n",
      "Epoch 14/1500\n",
      "5000/5000 [==============================] - 0s 38us/step - loss: 1.4260 - categorical_accuracy: 0.7360\n",
      "Epoch 15/1500\n",
      "5000/5000 [==============================] - 0s 37us/step - loss: 1.4002 - categorical_accuracy: 0.7374\n",
      "Epoch 16/1500\n",
      "5000/5000 [==============================] - 0s 38us/step - loss: 1.3757 - categorical_accuracy: 0.7418\n",
      "Epoch 17/1500\n",
      "5000/5000 [==============================] - 0s 42us/step - loss: 1.3530 - categorical_accuracy: 0.7442\n",
      "Epoch 18/1500\n",
      "5000/5000 [==============================] - 0s 32us/step - loss: 1.3309 - categorical_accuracy: 0.7470\n",
      "Epoch 19/1500\n",
      "5000/5000 [==============================] - 0s 32us/step - loss: 1.3105 - categorical_accuracy: 0.7524\n",
      "Epoch 20/1500\n",
      "5000/5000 [==============================] - 0s 31us/step - loss: 1.2911 - categorical_accuracy: 0.7544\n",
      "Epoch 21/1500\n",
      "5000/5000 [==============================] - 0s 33us/step - loss: 1.2724 - categorical_accuracy: 0.7568\n",
      "Epoch 22/1500\n",
      "5000/5000 [==============================] - 0s 33us/step - loss: 1.2548 - categorical_accuracy: 0.7620\n",
      "Epoch 23/1500\n",
      "5000/5000 [==============================] - 0s 32us/step - loss: 1.2379 - categorical_accuracy: 0.7646\n",
      "Epoch 24/1500\n",
      "5000/5000 [==============================] - 0s 32us/step - loss: 1.2220 - categorical_accuracy: 0.7664\n",
      "Epoch 25/1500\n",
      "5000/5000 [==============================] - 0s 32us/step - loss: 1.2066 - categorical_accuracy: 0.7718\n",
      "Epoch 26/1500\n",
      "5000/5000 [==============================] - 0s 38us/step - loss: 1.1920 - categorical_accuracy: 0.7738\n",
      "Epoch 27/1500\n",
      "5000/5000 [==============================] - 0s 41us/step - loss: 1.1780 - categorical_accuracy: 0.7788\n",
      "Epoch 28/1500\n",
      "5000/5000 [==============================] - 0s 38us/step - loss: 1.1645 - categorical_accuracy: 0.7816\n",
      "Epoch 29/1500\n",
      "5000/5000 [==============================] - 0s 39us/step - loss: 1.1519 - categorical_accuracy: 0.7854\n",
      "Epoch 30/1500\n",
      "5000/5000 [==============================] - 0s 30us/step - loss: 1.1395 - categorical_accuracy: 0.7858\n",
      "Epoch 31/1500\n",
      "5000/5000 [==============================] - 0s 31us/step - loss: 1.1276 - categorical_accuracy: 0.7888\n",
      "Epoch 32/1500\n",
      "5000/5000 [==============================] - 0s 32us/step - loss: 1.1163 - categorical_accuracy: 0.7900\n",
      "Epoch 33/1500\n",
      "5000/5000 [==============================] - 0s 32us/step - loss: 1.1052 - categorical_accuracy: 0.7920\n",
      "Epoch 34/1500\n",
      "5000/5000 [==============================] - 0s 38us/step - loss: 1.0948 - categorical_accuracy: 0.7944\n",
      "Epoch 35/1500\n",
      "5000/5000 [==============================] - 0s 42us/step - loss: 1.0845 - categorical_accuracy: 0.7946\n",
      "Epoch 36/1500\n",
      "5000/5000 [==============================] - 0s 33us/step - loss: 1.0748 - categorical_accuracy: 0.7962\n",
      "Epoch 37/1500\n",
      "5000/5000 [==============================] - 0s 31us/step - loss: 1.0652 - categorical_accuracy: 0.7970\n",
      "Epoch 38/1500\n",
      "5000/5000 [==============================] - 0s 33us/step - loss: 1.0559 - categorical_accuracy: 0.7974\n",
      "Epoch 39/1500\n",
      "5000/5000 [==============================] - 0s 42us/step - loss: 1.0471 - categorical_accuracy: 0.7988\n",
      "Epoch 40/1500\n",
      "5000/5000 [==============================] - 0s 37us/step - loss: 1.0385 - categorical_accuracy: 0.7990\n",
      "Epoch 41/1500\n",
      "5000/5000 [==============================] - 0s 32us/step - loss: 1.0300 - categorical_accuracy: 0.7984\n",
      "Epoch 42/1500\n",
      "5000/5000 [==============================] - 0s 33us/step - loss: 1.0222 - categorical_accuracy: 0.7996\n",
      "Epoch 43/1500\n",
      "5000/5000 [==============================] - 0s 42us/step - loss: 1.0143 - categorical_accuracy: 0.7994\n",
      "Epoch 44/1500\n",
      "5000/5000 [==============================] - 0s 35us/step - loss: 1.0068 - categorical_accuracy: 0.8012\n",
      "Epoch 45/1500\n",
      "5000/5000 [==============================] - 0s 33us/step - loss: 0.9993 - categorical_accuracy: 0.8014\n",
      "Epoch 46/1500\n",
      "5000/5000 [==============================] - 0s 38us/step - loss: 0.9922 - categorical_accuracy: 0.8026\n",
      "Epoch 47/1500\n",
      "5000/5000 [==============================] - 0s 45us/step - loss: 0.9852 - categorical_accuracy: 0.8038\n",
      "Epoch 48/1500\n",
      "5000/5000 [==============================] - 0s 33us/step - loss: 0.9784 - categorical_accuracy: 0.8042\n",
      "Epoch 49/1500\n",
      "5000/5000 [==============================] - 0s 33us/step - loss: 0.9717 - categorical_accuracy: 0.8054\n",
      "Epoch 50/1500\n",
      "5000/5000 [==============================] - 0s 32us/step - loss: 0.9655 - categorical_accuracy: 0.8052\n",
      "Epoch 51/1500\n",
      "5000/5000 [==============================] - 0s 32us/step - loss: 0.9593 - categorical_accuracy: 0.8074\n",
      "Epoch 52/1500\n",
      "5000/5000 [==============================] - 0s 30us/step - loss: 0.9532 - categorical_accuracy: 0.8074\n",
      "Epoch 53/1500\n",
      "5000/5000 [==============================] - 0s 30us/step - loss: 0.9474 - categorical_accuracy: 0.8072\n",
      "Epoch 54/1500\n",
      "5000/5000 [==============================] - 0s 30us/step - loss: 0.9417 - categorical_accuracy: 0.8084\n",
      "Epoch 55/1500\n",
      "5000/5000 [==============================] - 0s 29us/step - loss: 0.9359 - categorical_accuracy: 0.8082\n",
      "Epoch 56/1500\n",
      "5000/5000 [==============================] - 0s 28us/step - loss: 0.9305 - categorical_accuracy: 0.8094\n",
      "Epoch 57/1500\n",
      "5000/5000 [==============================] - 0s 31us/step - loss: 0.9251 - categorical_accuracy: 0.8098\n",
      "Epoch 58/1500\n",
      "5000/5000 [==============================] - 0s 35us/step - loss: 0.9198 - categorical_accuracy: 0.8116\n",
      "Epoch 59/1500\n",
      "5000/5000 [==============================] - 0s 29us/step - loss: 0.9148 - categorical_accuracy: 0.8120\n",
      "Epoch 60/1500\n",
      "5000/5000 [==============================] - 0s 32us/step - loss: 0.9097 - categorical_accuracy: 0.8122\n",
      "Epoch 61/1500\n",
      "5000/5000 [==============================] - 0s 32us/step - loss: 0.9049 - categorical_accuracy: 0.8122\n",
      "Epoch 62/1500\n",
      "5000/5000 [==============================] - 0s 32us/step - loss: 0.8999 - categorical_accuracy: 0.8144\n",
      "Epoch 63/1500\n",
      "5000/5000 [==============================] - 0s 31us/step - loss: 0.8954 - categorical_accuracy: 0.8138\n",
      "Epoch 64/1500\n",
      "5000/5000 [==============================] - 0s 30us/step - loss: 0.8908 - categorical_accuracy: 0.8142\n",
      "Epoch 65/1500\n",
      "5000/5000 [==============================] - 0s 34us/step - loss: 0.8864 - categorical_accuracy: 0.8162\n",
      "Epoch 66/1500\n",
      "5000/5000 [==============================] - 0s 34us/step - loss: 0.8818 - categorical_accuracy: 0.8156\n",
      "Epoch 67/1500\n",
      "5000/5000 [==============================] - 0s 30us/step - loss: 0.8777 - categorical_accuracy: 0.8164\n",
      "Epoch 68/1500\n",
      "5000/5000 [==============================] - 0s 33us/step - loss: 0.8735 - categorical_accuracy: 0.8172\n",
      "Epoch 69/1500\n",
      "5000/5000 [==============================] - 0s 33us/step - loss: 0.8692 - categorical_accuracy: 0.8174\n",
      "Epoch 70/1500\n"
     ]
    },
    {
     "name": "stdout",
     "output_type": "stream",
     "text": [
      "5000/5000 [==============================] - 0s 33us/step - loss: 0.8654 - categorical_accuracy: 0.8176\n",
      "Epoch 71/1500\n",
      "5000/5000 [==============================] - 0s 32us/step - loss: 0.8614 - categorical_accuracy: 0.8188\n",
      "Epoch 72/1500\n",
      "5000/5000 [==============================] - 0s 29us/step - loss: 0.8575 - categorical_accuracy: 0.8198\n",
      "Epoch 73/1500\n",
      "5000/5000 [==============================] - 0s 32us/step - loss: 0.8536 - categorical_accuracy: 0.8204\n",
      "Epoch 74/1500\n",
      "5000/5000 [==============================] - 0s 29us/step - loss: 0.8499 - categorical_accuracy: 0.8200\n",
      "Epoch 75/1500\n",
      "5000/5000 [==============================] - 0s 32us/step - loss: 0.8463 - categorical_accuracy: 0.8202\n",
      "Epoch 76/1500\n",
      "5000/5000 [==============================] - 0s 31us/step - loss: 0.8425 - categorical_accuracy: 0.8206\n",
      "Epoch 77/1500\n",
      "5000/5000 [==============================] - 0s 35us/step - loss: 0.8391 - categorical_accuracy: 0.8204\n",
      "Epoch 78/1500\n",
      "5000/5000 [==============================] - 0s 30us/step - loss: 0.8357 - categorical_accuracy: 0.8204\n",
      "Epoch 79/1500\n",
      "5000/5000 [==============================] - 0s 32us/step - loss: 0.8322 - categorical_accuracy: 0.8224\n",
      "Epoch 80/1500\n",
      "5000/5000 [==============================] - 0s 32us/step - loss: 0.8290 - categorical_accuracy: 0.8230\n",
      "Epoch 81/1500\n",
      "5000/5000 [==============================] - 0s 29us/step - loss: 0.8257 - categorical_accuracy: 0.8220\n",
      "Epoch 82/1500\n",
      "5000/5000 [==============================] - 0s 33us/step - loss: 0.8224 - categorical_accuracy: 0.8216\n",
      "Epoch 83/1500\n",
      "5000/5000 [==============================] - 0s 31us/step - loss: 0.8191 - categorical_accuracy: 0.8226\n",
      "Epoch 84/1500\n",
      "5000/5000 [==============================] - 0s 31us/step - loss: 0.8161 - categorical_accuracy: 0.8230\n",
      "Epoch 85/1500\n",
      "5000/5000 [==============================] - 0s 34us/step - loss: 0.8129 - categorical_accuracy: 0.8234\n",
      "Epoch 86/1500\n",
      "5000/5000 [==============================] - 0s 29us/step - loss: 0.8101 - categorical_accuracy: 0.8244\n",
      "Epoch 87/1500\n",
      "5000/5000 [==============================] - 0s 31us/step - loss: 0.8070 - categorical_accuracy: 0.8242\n",
      "Epoch 88/1500\n",
      "5000/5000 [==============================] - 0s 33us/step - loss: 0.8041 - categorical_accuracy: 0.8254\n",
      "Epoch 89/1500\n",
      "5000/5000 [==============================] - 0s 33us/step - loss: 0.8013 - categorical_accuracy: 0.8252\n",
      "Epoch 90/1500\n",
      "5000/5000 [==============================] - 0s 32us/step - loss: 0.7985 - categorical_accuracy: 0.8264\n",
      "Epoch 91/1500\n",
      "5000/5000 [==============================] - 0s 29us/step - loss: 0.7956 - categorical_accuracy: 0.8270\n",
      "Epoch 92/1500\n",
      "5000/5000 [==============================] - 0s 35us/step - loss: 0.7929 - categorical_accuracy: 0.8268\n",
      "Epoch 93/1500\n",
      "5000/5000 [==============================] - 0s 33us/step - loss: 0.7901 - categorical_accuracy: 0.8276\n",
      "Epoch 94/1500\n",
      "5000/5000 [==============================] - 0s 34us/step - loss: 0.7875 - categorical_accuracy: 0.8270\n",
      "Epoch 95/1500\n",
      "5000/5000 [==============================] - 0s 34us/step - loss: 0.7850 - categorical_accuracy: 0.8286\n",
      "Epoch 96/1500\n",
      "5000/5000 [==============================] - 0s 32us/step - loss: 0.7823 - categorical_accuracy: 0.8294\n",
      "Epoch 97/1500\n",
      "5000/5000 [==============================] - 0s 31us/step - loss: 0.7798 - categorical_accuracy: 0.8284\n",
      "Epoch 98/1500\n",
      "5000/5000 [==============================] - 0s 35us/step - loss: 0.7773 - categorical_accuracy: 0.8286\n",
      "Epoch 99/1500\n",
      "5000/5000 [==============================] - 0s 30us/step - loss: 0.7748 - categorical_accuracy: 0.8292\n",
      "Epoch 100/1500\n",
      "5000/5000 [==============================] - 0s 33us/step - loss: 0.7723 - categorical_accuracy: 0.8288\n",
      "Epoch 101/1500\n",
      "5000/5000 [==============================] - 0s 35us/step - loss: 0.7699 - categorical_accuracy: 0.8310\n",
      "Epoch 102/1500\n",
      "5000/5000 [==============================] - 0s 35us/step - loss: 0.7677 - categorical_accuracy: 0.8302\n",
      "Epoch 103/1500\n",
      "5000/5000 [==============================] - 0s 32us/step - loss: 0.7651 - categorical_accuracy: 0.8302\n",
      "Epoch 104/1500\n",
      "5000/5000 [==============================] - 0s 33us/step - loss: 0.7630 - categorical_accuracy: 0.8306\n",
      "Epoch 105/1500\n",
      "5000/5000 [==============================] - 0s 33us/step - loss: 0.7607 - categorical_accuracy: 0.8306\n",
      "Epoch 106/1500\n",
      "5000/5000 [==============================] - 0s 32us/step - loss: 0.7586 - categorical_accuracy: 0.8310\n",
      "Epoch 107/1500\n",
      "5000/5000 [==============================] - 0s 34us/step - loss: 0.7563 - categorical_accuracy: 0.8320\n",
      "Epoch 108/1500\n",
      "5000/5000 [==============================] - 0s 32us/step - loss: 0.7541 - categorical_accuracy: 0.8316\n",
      "Epoch 109/1500\n",
      "5000/5000 [==============================] - 0s 33us/step - loss: 0.7519 - categorical_accuracy: 0.8314\n",
      "Epoch 110/1500\n",
      "5000/5000 [==============================] - 0s 32us/step - loss: 0.7499 - categorical_accuracy: 0.8316\n",
      "Epoch 111/1500\n",
      "5000/5000 [==============================] - 0s 35us/step - loss: 0.7479 - categorical_accuracy: 0.8316\n",
      "Epoch 112/1500\n",
      "5000/5000 [==============================] - 0s 30us/step - loss: 0.7458 - categorical_accuracy: 0.8318\n",
      "Epoch 113/1500\n",
      "5000/5000 [==============================] - 0s 32us/step - loss: 0.7438 - categorical_accuracy: 0.8322\n",
      "Epoch 114/1500\n",
      "5000/5000 [==============================] - 0s 33us/step - loss: 0.7417 - categorical_accuracy: 0.8334\n",
      "Epoch 115/1500\n",
      "5000/5000 [==============================] - 0s 31us/step - loss: 0.7398 - categorical_accuracy: 0.8326\n",
      "Epoch 116/1500\n",
      "5000/5000 [==============================] - 0s 32us/step - loss: 0.7377 - categorical_accuracy: 0.8332\n",
      "Epoch 117/1500\n",
      "5000/5000 [==============================] - 0s 33us/step - loss: 0.7358 - categorical_accuracy: 0.8326\n",
      "Epoch 118/1500\n",
      "5000/5000 [==============================] - 0s 29us/step - loss: 0.7340 - categorical_accuracy: 0.8336\n",
      "Epoch 119/1500\n",
      "5000/5000 [==============================] - 0s 30us/step - loss: 0.7321 - categorical_accuracy: 0.8334\n",
      "Epoch 120/1500\n",
      "5000/5000 [==============================] - 0s 32us/step - loss: 0.7302 - categorical_accuracy: 0.8340\n",
      "Epoch 121/1500\n",
      "5000/5000 [==============================] - 0s 34us/step - loss: 0.7284 - categorical_accuracy: 0.8340\n",
      "Epoch 122/1500\n",
      "5000/5000 [==============================] - 0s 30us/step - loss: 0.7266 - categorical_accuracy: 0.8332\n",
      "Epoch 123/1500\n",
      "5000/5000 [==============================] - 0s 32us/step - loss: 0.7247 - categorical_accuracy: 0.8350\n",
      "Epoch 124/1500\n",
      "5000/5000 [==============================] - 0s 33us/step - loss: 0.7230 - categorical_accuracy: 0.8346\n",
      "Epoch 125/1500\n",
      "5000/5000 [==============================] - 0s 30us/step - loss: 0.7211 - categorical_accuracy: 0.8352\n",
      "Epoch 126/1500\n",
      "5000/5000 [==============================] - 0s 33us/step - loss: 0.7195 - categorical_accuracy: 0.8350\n",
      "Epoch 127/1500\n",
      "5000/5000 [==============================] - 0s 30us/step - loss: 0.7178 - categorical_accuracy: 0.8354\n",
      "Epoch 128/1500\n",
      "5000/5000 [==============================] - 0s 33us/step - loss: 0.7161 - categorical_accuracy: 0.8364\n",
      "Epoch 129/1500\n",
      "5000/5000 [==============================] - 0s 33us/step - loss: 0.7145 - categorical_accuracy: 0.8358\n",
      "Epoch 130/1500\n",
      "5000/5000 [==============================] - 0s 33us/step - loss: 0.7128 - categorical_accuracy: 0.8362\n",
      "Epoch 131/1500\n",
      "5000/5000 [==============================] - 0s 32us/step - loss: 0.7112 - categorical_accuracy: 0.8364\n",
      "Epoch 132/1500\n",
      "5000/5000 [==============================] - 0s 30us/step - loss: 0.7095 - categorical_accuracy: 0.8376\n",
      "Epoch 133/1500\n",
      "5000/5000 [==============================] - 0s 29us/step - loss: 0.7080 - categorical_accuracy: 0.8372\n",
      "Epoch 134/1500\n",
      "5000/5000 [==============================] - 0s 30us/step - loss: 0.7065 - categorical_accuracy: 0.8362\n",
      "Epoch 135/1500\n",
      "5000/5000 [==============================] - 0s 31us/step - loss: 0.7048 - categorical_accuracy: 0.8374\n",
      "Epoch 136/1500\n",
      "5000/5000 [==============================] - 0s 30us/step - loss: 0.7033 - categorical_accuracy: 0.8386\n",
      "Epoch 137/1500\n",
      "5000/5000 [==============================] - 0s 30us/step - loss: 0.7017 - categorical_accuracy: 0.8376\n",
      "Epoch 138/1500\n",
      "5000/5000 [==============================] - 0s 30us/step - loss: 0.7004 - categorical_accuracy: 0.8392\n",
      "Epoch 139/1500\n"
     ]
    },
    {
     "name": "stdout",
     "output_type": "stream",
     "text": [
      "5000/5000 [==============================] - 0s 30us/step - loss: 0.6988 - categorical_accuracy: 0.8392\n",
      "Epoch 140/1500\n",
      "5000/5000 [==============================] - 0s 28us/step - loss: 0.6972 - categorical_accuracy: 0.8402\n",
      "Epoch 141/1500\n",
      "5000/5000 [==============================] - 0s 28us/step - loss: 0.6958 - categorical_accuracy: 0.8408\n",
      "Epoch 142/1500\n",
      "5000/5000 [==============================] - 0s 27us/step - loss: 0.6945 - categorical_accuracy: 0.8390\n",
      "Epoch 143/1500\n",
      "5000/5000 [==============================] - 0s 27us/step - loss: 0.6930 - categorical_accuracy: 0.8400\n",
      "Epoch 144/1500\n",
      "5000/5000 [==============================] - 0s 28us/step - loss: 0.6915 - categorical_accuracy: 0.8404\n",
      "Epoch 145/1500\n",
      "5000/5000 [==============================] - 0s 28us/step - loss: 0.6903 - categorical_accuracy: 0.8406\n",
      "Epoch 146/1500\n",
      "5000/5000 [==============================] - 0s 28us/step - loss: 0.6888 - categorical_accuracy: 0.8412\n",
      "Epoch 147/1500\n",
      "5000/5000 [==============================] - 0s 27us/step - loss: 0.6874 - categorical_accuracy: 0.8416\n",
      "Epoch 148/1500\n",
      "5000/5000 [==============================] - 0s 28us/step - loss: 0.6860 - categorical_accuracy: 0.8412\n",
      "Epoch 149/1500\n",
      "5000/5000 [==============================] - 0s 27us/step - loss: 0.6848 - categorical_accuracy: 0.8414\n",
      "Epoch 150/1500\n",
      "5000/5000 [==============================] - 0s 27us/step - loss: 0.6834 - categorical_accuracy: 0.8418\n",
      "Epoch 151/1500\n",
      "5000/5000 [==============================] - 0s 28us/step - loss: 0.6821 - categorical_accuracy: 0.8424\n",
      "Epoch 152/1500\n",
      "5000/5000 [==============================] - 0s 27us/step - loss: 0.6808 - categorical_accuracy: 0.8418\n",
      "Epoch 153/1500\n",
      "5000/5000 [==============================] - 0s 27us/step - loss: 0.6794 - categorical_accuracy: 0.8432\n",
      "Epoch 154/1500\n",
      "5000/5000 [==============================] - 0s 28us/step - loss: 0.6782 - categorical_accuracy: 0.8424\n",
      "Epoch 155/1500\n",
      "5000/5000 [==============================] - 0s 27us/step - loss: 0.6768 - categorical_accuracy: 0.8438\n",
      "Epoch 156/1500\n",
      "5000/5000 [==============================] - 0s 28us/step - loss: 0.6757 - categorical_accuracy: 0.8434\n",
      "Epoch 157/1500\n",
      "5000/5000 [==============================] - 0s 28us/step - loss: 0.6744 - categorical_accuracy: 0.8430\n",
      "Epoch 158/1500\n",
      "5000/5000 [==============================] - 0s 27us/step - loss: 0.6733 - categorical_accuracy: 0.8438\n",
      "Epoch 159/1500\n",
      "5000/5000 [==============================] - 0s 27us/step - loss: 0.6719 - categorical_accuracy: 0.8448\n",
      "Epoch 160/1500\n",
      "5000/5000 [==============================] - 0s 27us/step - loss: 0.6708 - categorical_accuracy: 0.8450\n",
      "Epoch 161/1500\n",
      "5000/5000 [==============================] - 0s 27us/step - loss: 0.6696 - categorical_accuracy: 0.8448\n",
      "Epoch 162/1500\n",
      "5000/5000 [==============================] - 0s 27us/step - loss: 0.6684 - categorical_accuracy: 0.8444\n",
      "Epoch 163/1500\n",
      "5000/5000 [==============================] - 0s 27us/step - loss: 0.6672 - categorical_accuracy: 0.8438\n",
      "Epoch 164/1500\n",
      "5000/5000 [==============================] - 0s 27us/step - loss: 0.6660 - categorical_accuracy: 0.8444\n",
      "Epoch 165/1500\n",
      "5000/5000 [==============================] - 0s 28us/step - loss: 0.6649 - categorical_accuracy: 0.8450\n",
      "Epoch 166/1500\n",
      "5000/5000 [==============================] - 0s 28us/step - loss: 0.6636 - categorical_accuracy: 0.8456\n",
      "Epoch 167/1500\n",
      "5000/5000 [==============================] - 0s 27us/step - loss: 0.6625 - categorical_accuracy: 0.8448\n",
      "Epoch 168/1500\n",
      "5000/5000 [==============================] - 0s 27us/step - loss: 0.6615 - categorical_accuracy: 0.8464\n",
      "Epoch 169/1500\n",
      "5000/5000 [==============================] - 0s 27us/step - loss: 0.6603 - categorical_accuracy: 0.8460\n",
      "Epoch 170/1500\n",
      "5000/5000 [==============================] - 0s 29us/step - loss: 0.6593 - categorical_accuracy: 0.8460\n",
      "Epoch 171/1500\n",
      "5000/5000 [==============================] - 0s 27us/step - loss: 0.6581 - categorical_accuracy: 0.8466\n",
      "Epoch 172/1500\n",
      "5000/5000 [==============================] - 0s 28us/step - loss: 0.6570 - categorical_accuracy: 0.8462\n",
      "Epoch 173/1500\n",
      "5000/5000 [==============================] - 0s 28us/step - loss: 0.6559 - categorical_accuracy: 0.8474\n",
      "Epoch 174/1500\n",
      "5000/5000 [==============================] - 0s 28us/step - loss: 0.6549 - categorical_accuracy: 0.8470\n",
      "Epoch 175/1500\n",
      "5000/5000 [==============================] - 0s 27us/step - loss: 0.6538 - categorical_accuracy: 0.8476\n",
      "Epoch 176/1500\n",
      "5000/5000 [==============================] - 0s 27us/step - loss: 0.6527 - categorical_accuracy: 0.8478\n",
      "Epoch 177/1500\n",
      "5000/5000 [==============================] - 0s 28us/step - loss: 0.6516 - categorical_accuracy: 0.8478\n",
      "Epoch 178/1500\n",
      "5000/5000 [==============================] - 0s 28us/step - loss: 0.6507 - categorical_accuracy: 0.8476\n",
      "Epoch 179/1500\n",
      "5000/5000 [==============================] - 0s 28us/step - loss: 0.6496 - categorical_accuracy: 0.8472\n",
      "Epoch 180/1500\n",
      "5000/5000 [==============================] - 0s 28us/step - loss: 0.6486 - categorical_accuracy: 0.8482\n",
      "Epoch 181/1500\n",
      "5000/5000 [==============================] - 0s 28us/step - loss: 0.6476 - categorical_accuracy: 0.8486\n",
      "Epoch 182/1500\n",
      "5000/5000 [==============================] - 0s 27us/step - loss: 0.6466 - categorical_accuracy: 0.8488\n",
      "Epoch 183/1500\n",
      "5000/5000 [==============================] - 0s 28us/step - loss: 0.6456 - categorical_accuracy: 0.8486\n",
      "Epoch 184/1500\n",
      "5000/5000 [==============================] - 0s 27us/step - loss: 0.6447 - categorical_accuracy: 0.8490\n",
      "Epoch 185/1500\n",
      "5000/5000 [==============================] - 0s 27us/step - loss: 0.6437 - categorical_accuracy: 0.8498\n",
      "Epoch 186/1500\n",
      "5000/5000 [==============================] - 0s 27us/step - loss: 0.6426 - categorical_accuracy: 0.8496\n",
      "Epoch 187/1500\n",
      "5000/5000 [==============================] - 0s 28us/step - loss: 0.6417 - categorical_accuracy: 0.8494\n",
      "Epoch 188/1500\n",
      "5000/5000 [==============================] - 0s 27us/step - loss: 0.6407 - categorical_accuracy: 0.8500\n",
      "Epoch 189/1500\n",
      "5000/5000 [==============================] - 0s 28us/step - loss: 0.6397 - categorical_accuracy: 0.8506\n",
      "Epoch 190/1500\n",
      "5000/5000 [==============================] - 0s 28us/step - loss: 0.6388 - categorical_accuracy: 0.8504\n",
      "Epoch 191/1500\n",
      "5000/5000 [==============================] - 0s 27us/step - loss: 0.6379 - categorical_accuracy: 0.8500\n",
      "Epoch 192/1500\n",
      "5000/5000 [==============================] - 0s 27us/step - loss: 0.6370 - categorical_accuracy: 0.8496\n",
      "Epoch 193/1500\n",
      "5000/5000 [==============================] - 0s 28us/step - loss: 0.6361 - categorical_accuracy: 0.8506\n",
      "Epoch 194/1500\n",
      "5000/5000 [==============================] - 0s 27us/step - loss: 0.6351 - categorical_accuracy: 0.8502\n",
      "Epoch 195/1500\n",
      "5000/5000 [==============================] - 0s 27us/step - loss: 0.6341 - categorical_accuracy: 0.8500\n",
      "Epoch 196/1500\n",
      "5000/5000 [==============================] - 0s 27us/step - loss: 0.6332 - categorical_accuracy: 0.8510\n",
      "Epoch 197/1500\n",
      "5000/5000 [==============================] - 0s 27us/step - loss: 0.6324 - categorical_accuracy: 0.8506\n",
      "Epoch 198/1500\n",
      "5000/5000 [==============================] - 0s 28us/step - loss: 0.6315 - categorical_accuracy: 0.8518\n",
      "Epoch 199/1500\n",
      "5000/5000 [==============================] - 0s 29us/step - loss: 0.6306 - categorical_accuracy: 0.8514\n",
      "Epoch 200/1500\n",
      "5000/5000 [==============================] - 0s 27us/step - loss: 0.6298 - categorical_accuracy: 0.8520\n",
      "Epoch 201/1500\n",
      "5000/5000 [==============================] - 0s 27us/step - loss: 0.6288 - categorical_accuracy: 0.8522\n",
      "Epoch 202/1500\n",
      "5000/5000 [==============================] - 0s 29us/step - loss: 0.6280 - categorical_accuracy: 0.8518\n",
      "Epoch 203/1500\n",
      "5000/5000 [==============================] - 0s 29us/step - loss: 0.6272 - categorical_accuracy: 0.8524\n",
      "Epoch 204/1500\n",
      "5000/5000 [==============================] - 0s 32us/step - loss: 0.6263 - categorical_accuracy: 0.8524\n",
      "Epoch 205/1500\n",
      "5000/5000 [==============================] - 0s 33us/step - loss: 0.6255 - categorical_accuracy: 0.8528\n",
      "Epoch 206/1500\n",
      "5000/5000 [==============================] - 0s 34us/step - loss: 0.6246 - categorical_accuracy: 0.8530\n",
      "Epoch 207/1500\n",
      "5000/5000 [==============================] - 0s 30us/step - loss: 0.6237 - categorical_accuracy: 0.8526\n"
     ]
    },
    {
     "name": "stdout",
     "output_type": "stream",
     "text": [
      "Epoch 208/1500\n",
      "5000/5000 [==============================] - 0s 29us/step - loss: 0.6230 - categorical_accuracy: 0.8530\n",
      "Epoch 209/1500\n",
      "5000/5000 [==============================] - 0s 29us/step - loss: 0.6222 - categorical_accuracy: 0.8530\n",
      "Epoch 210/1500\n",
      "5000/5000 [==============================] - 0s 28us/step - loss: 0.6212 - categorical_accuracy: 0.8534\n",
      "Epoch 211/1500\n",
      "5000/5000 [==============================] - 0s 28us/step - loss: 0.6205 - categorical_accuracy: 0.8528\n",
      "Epoch 212/1500\n",
      "5000/5000 [==============================] - 0s 28us/step - loss: 0.6197 - categorical_accuracy: 0.8536\n",
      "Epoch 213/1500\n",
      "5000/5000 [==============================] - 0s 28us/step - loss: 0.6188 - categorical_accuracy: 0.8540\n",
      "Epoch 214/1500\n",
      "5000/5000 [==============================] - 0s 28us/step - loss: 0.6181 - categorical_accuracy: 0.8542\n",
      "Epoch 215/1500\n",
      "5000/5000 [==============================] - 0s 30us/step - loss: 0.6173 - categorical_accuracy: 0.8534\n",
      "Epoch 216/1500\n",
      "5000/5000 [==============================] - 0s 34us/step - loss: 0.6165 - categorical_accuracy: 0.8542\n",
      "Epoch 217/1500\n",
      "5000/5000 [==============================] - 0s 35us/step - loss: 0.6155 - categorical_accuracy: 0.8540\n",
      "Epoch 218/1500\n",
      "5000/5000 [==============================] - 0s 35us/step - loss: 0.6150 - categorical_accuracy: 0.8546\n",
      "Epoch 219/1500\n",
      "5000/5000 [==============================] - 0s 30us/step - loss: 0.6141 - categorical_accuracy: 0.8540\n",
      "Epoch 220/1500\n",
      "3712/5000 [=====================>........] - ETA: 0s - loss: 0.6018 - categorical_accuracy: 0.8553"
     ]
    }
   ],
   "source": [
    "from keras import optimizers, losses, utils\n",
    "\n",
    "\n",
    "input_layer = Input(shape=(28 * 28, ), name='input_image')\n",
    "hidden_layer = Dense(units=10, activation='sigmoid')(input_layer)\n",
    "hidden_layer = Dense(units=10, activation='sigmoid')(hidden_layer)\n",
    "output = Dense(units=10, activation='softmax', name='main_output')(hidden_layer)\n",
    "\n",
    "model = Model(input=input_layer, output=output)\n",
    "\n",
    "model.compile(optimizer='adagrad', loss='categorical_crossentropy',  metrics=['categorical_accuracy'])\n",
    "\n",
    "one_hot_train_labels = utils.to_categorical(train_labels, num_classes=10)\n",
    "\n",
    "model.fit(x=train_dataset[:train_set_size, :, :].reshape(train_set_size, 28 * 28), y=one_hot_train_labels[:train_set_size, :], epochs=1500, batch_size=32)\n"
   ]
  },
  {
   "cell_type": "code",
   "execution_count": 66,
   "metadata": {},
   "outputs": [
    {
     "name": "stdout",
     "output_type": "stream",
     "text": [
      "10000/10000 [==============================] - 0s 24us/step\n"
     ]
    },
    {
     "data": {
      "text/plain": [
       "[1.4485781114578247, 0.7718]"
      ]
     },
     "execution_count": 66,
     "metadata": {},
     "output_type": "execute_result"
    }
   ],
   "source": [
    "one_hot_test_labels = utils.to_categorical(test_labels, num_classes=10)\n",
    "\n",
    "model.evaluate(x=test_dataset.reshape(len(test_dataset),28 * 28), y=one_hot_test_labels)"
   ]
  }
 ],
 "metadata": {
  "colab": {
   "default_view": {},
   "name": "1_notmnist.ipynb",
   "provenance": [],
   "version": "0.3.2",
   "views": {}
  },
  "kernelspec": {
   "display_name": "Python 3",
   "language": "python",
   "name": "python3"
  },
  "language_info": {
   "codemirror_mode": {
    "name": "ipython",
    "version": 3
   },
   "file_extension": ".py",
   "mimetype": "text/x-python",
   "name": "python",
   "nbconvert_exporter": "python",
   "pygments_lexer": "ipython3",
   "version": "3.6.5"
  }
 },
 "nbformat": 4,
 "nbformat_minor": 1
}
